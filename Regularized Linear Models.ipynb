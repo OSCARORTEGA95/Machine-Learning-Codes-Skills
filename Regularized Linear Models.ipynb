{
 "cells": [
  {
   "cell_type": "markdown",
   "id": "4405ed82-7b1e-49b1-9dd3-ecab4f23d674",
   "metadata": {},
   "source": [
    "# Regularized Linear Regression: A Jupyter Notebook Demonstration\n",
    "\n",
    "## Introduction\n",
    "\n",
    "Welcome to this Jupyter Notebook, where I showcase my skills in implementing regularized linear regression techniques, including Ridge, Lasso, and Elastic Net regression. Regularization is a powerful approach to prevent overfitting, improve model generalization, and handle high-dimensional datasets effectively. In this notebook, I aim to demonstrate my ability to:\n",
    "\n",
    "- Prepare and preprocess data for regression modeling.\n",
    "- Implement linear regression with regularization using Python libraries like `scikit-learn`.\n",
    "- Compare the performance of standard linear regression with Ridge, Lasso, and Elastic Net models.\n",
    "- Visualize the impact of regularization on model coefficients and predictions.\n",
    "- Evaluate model performance using appropriate metrics (e.g., MSE, R²).\n",
    "\n",
    "This notebook is designed to highlight my understanding of machine learning concepts, proficiency in Python programming, and ability to interpret and communicate results effectively. The dataset used in this demonstration is [insert dataset name, e.g., a synthetic dataset or a real-world dataset like the Boston Housing dataset], which provides a practical context for exploring regularization techniques.\n",
    "\n",
    "Let’s dive into the code and explore how regularization enhances linear regression models!"
   ]
  },
  {
   "cell_type": "code",
   "execution_count": 1,
   "id": "4f160eb4",
   "metadata": {},
   "outputs": [],
   "source": [
    "import numpy as np\n",
    "from sklearn import datasets\n",
    "from sklearn.model_selection import train_test_split\n",
    "from sklearn.linear_model import LinearRegression\n",
    "from sklearn.linear_model import RidgeCV\n",
    "from sklearn.linear_model import Ridge\n",
    "from sklearn.linear_model import LassoCV\n",
    "from sklearn.linear_model import Lasso\n",
    "from sklearn.linear_model import ElasticNetCV\n",
    "from sklearn.linear_model import ElasticNet\n",
    "import matplotlib.pyplot as plt"
   ]
  },
  {
   "cell_type": "markdown",
   "id": "e0890b41",
   "metadata": {},
   "source": [
    "# ## Loading the data\n",
    "\n",
    "First, we will load the data to be used in this notebook that corresponds to the \"diabetes\" database of the \"sklearn\" package. To do this, we will execute the following code:"
   ]
  },
  {
   "cell_type": "code",
   "execution_count": 2,
   "id": "e4f06800",
   "metadata": {},
   "outputs": [],
   "source": [
    "XTotal, yTotal = datasets.load_diabetes(return_X_y=True)"
   ]
  },
  {
   "cell_type": "markdown",
   "id": "124556f8",
   "metadata": {},
   "source": [
    "Then, we will start the database in a train section and another test as follows: we will use 67% of the training data and the remaining 33% for evaluation."
   ]
  },
  {
   "cell_type": "code",
   "execution_count": 3,
   "id": "901bce90",
   "metadata": {},
   "outputs": [],
   "source": [
    "XTrain, XTest, yTrain, yTest = train_test_split(XTotal, yTotal, test_size=0.33, random_state=0)"
   ]
  },
  {
   "cell_type": "markdown",
   "id": "84510813",
   "metadata": {},
   "source": [
    "Now, we will proceed to discuss the three penalty models discussed above and the codes to implement them.\n",
    "\n",
    "# ## Model with Ridge type penalty\n",
    "\n",
    "This model uses the standard of the Betas vector as the sum of the square of its components, that is, the classic Euclidean standard of a vector. In this way, the optimization problem that is sought to be solved is:\n",
    "\n",
    "$$ \\ hat \\ beta = argmin \\ sum_ {i = 1}^{n} (y_- \\ beta^tx_i)^2 + \\ lambda \\ sum_ {j = 1}^{k} \\ beta_j^{2} $$\n",
    "\n",
    "Below is the code to calibrate the model with a ridge penalty using Cross-Validation:"
   ]
  },
  {
   "cell_type": "code",
   "execution_count": 4,
   "id": "452886c5",
   "metadata": {},
   "outputs": [],
   "source": [
    "n_alphas = 200\n",
    "alphasCalibrar = np.logspace(-10, 2, n_alphas)\n",
    "modeloRidge = RidgeCV(alphas=alphasCalibrar,store_cv_values=True).fit(XTrain, yTrain)"
   ]
  },
  {
   "cell_type": "markdown",
   "id": "165d3f12",
   "metadata": {},
   "source": [
    "Once the model is calibrated, we can know the value of $ \\ Lambda $, of $ r^{2} $ of regression and the estimated coefficients using the following commands:"
   ]
  },
  {
   "cell_type": "code",
   "execution_count": 5,
   "id": "020d799b",
   "metadata": {},
   "outputs": [
    {
     "name": "stdout",
     "output_type": "stream",
     "text": [
      "El parámetro de penalización óptimo es:\n",
      "0.04824108704165374\n",
      "El valor del R^2 es:\n",
      "0.5555050169726373\n",
      "Los coeficientes estimados son:\n",
      "[ -30.74688277 -173.94282028  562.75782213  272.05180796  -99.66001003\n",
      "  -78.00254663 -208.36004921   51.25040253  532.18392394   51.71663159]\n"
     ]
    }
   ],
   "source": [
    "print('El parámetro de penalización óptimo es:')\n",
    "print(modeloRidge.alpha_)\n",
    "print('El valor del R^2 es:')\n",
    "print(modeloRidge.score(XTrain, yTrain))\n",
    "print('Los coeficientes estimados son:')\n",
    "print(modeloRidge.coef_)"
   ]
  },
  {
   "cell_type": "markdown",
   "id": "9ccf5fa5",
   "metadata": {},
   "source": [
    "To observe what happens with the coefficients as the value of the penalty parameter changes, the following code must be run:"
   ]
  },
  {
   "cell_type": "code",
   "execution_count": 6,
   "id": "845c856c",
   "metadata": {
    "scrolled": true
   },
   "outputs": [
    {
     "data": {
      "image/png": "[encoded data removed]",
      "text/plain": [
       "<Figure size 432x288 with 1 Axes>"
      ]
     },
     "metadata": {
      "needs_background": "light"
     },
     "output_type": "display_data"
    }
   ],
   "source": [
    "coefs = []\n",
    "for a in alphasCalibrar:\n",
    "    ridge = Ridge(alpha=a, fit_intercept=False)\n",
    "    ridge.fit(XTrain, yTrain)\n",
    "    coefs.append(ridge.coef_)\n",
    "\n",
    "# Presentation of results\n",
    "\n",
    "ax = plt.gca()\n",
    "\n",
    "ax.plot(alphasCalibrar, coefs)\n",
    "ax.set_xscale('log')\n",
    "ax.set_xlim(ax.get_xlim()[::-1])  \n",
    "plt.xlabel('Parámetro de penalización')\n",
    "plt.ylabel('Coeficientes')\n",
    "plt.title('Penalización Ridge')\n",
    "plt.axis('tight')\n",
    "plt.show()"
   ]
  },
  {
   "cell_type": "markdown",
   "id": "5a87825b",
   "metadata": {},
   "source": [
    "Finally, we can make predictions on the evaluation sample and calculate the MSE corresponding to the command that is immediately shown:"
   ]
  },
  {
   "cell_type": "code",
   "execution_count": 7,
   "id": "9fb4c32e",
   "metadata": {},
   "outputs": [
    {
     "name": "stdout",
     "output_type": "stream",
     "text": [
      "MSE regresión con penalización tipo Ridge:\n",
      "3116.3470058003163\n"
     ]
    }
   ],
   "source": [
    "prediccionRidge=modeloRidge.predict(XTest)\n",
    "MSERidge=np.average(np.square(prediccionRidge-yTest))\n",
    "print('MSE regresión con penalización tipo Ridge:')\n",
    "print(MSERidge)"
   ]
  },
  {
   "cell_type": "markdown",
   "id": "79dc31cf",
   "metadata": {},
   "source": [
    "# ## Model with Lasso type penalty\n",
    "\n",
    "This model uses the standard of the betas vector as the sum of the absolute value of its components, that is, the optimization problem that is sought to be solved is:\n",
    "\n",
    "$$ \\ hat \\ beta = argmin \\ sum_ {i = 1}^{n} (y_- \\ beta^tx_i)^2 + \\ lambda \\ sum_ {j = 1}^{k} | \\ beta_j | $$\n",
    "\n",
    "Below is the code to calibrate the model with Lasso penalty using Cross-Validation:"
   ]
  },
  {
   "cell_type": "code",
   "execution_count": 8,
   "id": "46a9a325",
   "metadata": {},
   "outputs": [],
   "source": [
    "n_alphas = 200\n",
    "alphasCalibrar = np.logspace(-10, 2, n_alphas)\n",
    "modeloLASSO = LassoCV(alphas=alphasCalibrar).fit(XTrain, yTrain)"
   ]
  },
  {
   "cell_type": "markdown",
   "id": "6d5c8687",
   "metadata": {},
   "source": [
    "Once the model is calibrated, we can know the value of $ \\ Lambda $, of $ r^{2} $ of regression and the estimated coefficients using the following commands:"
   ]
  },
  {
   "cell_type": "code",
   "execution_count": 9,
   "id": "d92de9f1",
   "metadata": {
    "scrolled": true
   },
   "outputs": [
    {
     "name": "stdout",
     "output_type": "stream",
     "text": [
      "El parámetro de penalización es:\n",
      "0.04824108704165374\n",
      "El valor del R^2 es:\n",
      "0.5560271023727925\n",
      "Los coeficientes estimados son:\n",
      "[  -7.84287066 -151.6588139   590.8063923   251.03733442 -158.75797546\n",
      "   -0.         -193.40634314    0.          596.76793272   14.73853109]\n"
     ]
    }
   ],
   "source": [
    "print('El parámetro de penalización es:')\n",
    "print(modeloLASSO.alpha_)\n",
    "print('El valor del R^2 es:')\n",
    "print(modeloLASSO.score(XTrain, yTrain))\n",
    "print('Los coeficientes estimados son:')\n",
    "print(modeloLASSO.coef_)"
   ]
  },
  {
   "cell_type": "markdown",
   "id": "6ba1fe02",
   "metadata": {},
   "source": [
    "To observe what happens with the coefficients as the value of the penalty parameter changes, the following code must be run:"
   ]
  },
  {
   "cell_type": "code",
   "execution_count": 10,
   "id": "431f2ae3",
   "metadata": {},
   "outputs": [
    {
     "data": {
      "image/png": "[encoded data removed]",
      "text/plain": [
       "<Figure size 432x288 with 1 Axes>"
      ]
     },
     "metadata": {
      "needs_background": "light"
     },
     "output_type": "display_data"
    }
   ],
   "source": [
    "coefs = []\n",
    "for a in alphasCalibrar:\n",
    "    lasso = Lasso(alpha=a, fit_intercept=False,max_iter=10000)\n",
    "    lasso.fit(XTrain, yTrain)\n",
    "    coefs.append(lasso.coef_)\n",
    "\n",
    "# Presentation of results\n",
    "\n",
    "ax = plt.gca()\n",
    "\n",
    "ax.plot(alphasCalibrar, coefs)\n",
    "ax.set_xscale('log')\n",
    "ax.set_xlim(ax.get_xlim()[::-1])  # reverse axis\n",
    "plt.xlabel('Parámetro de penalización')\n",
    "plt.ylabel('Coeficientes')\n",
    "plt.title('Penalización LASSO')\n",
    "plt.axis('tight')\n",
    "plt.show()"
   ]
  },
  {
   "cell_type": "markdown",
   "id": "4d051c17",
   "metadata": {},
   "source": [
    "Finally, we can make predictions on the evaluation sample and calculate the MSE corresponding to the command that is immediately shown:"
   ]
  },
  {
   "cell_type": "code",
   "execution_count": 11,
   "id": "10f1efb4",
   "metadata": {},
   "outputs": [
    {
     "name": "stdout",
     "output_type": "stream",
     "text": [
      "MSE regresión con penalización tipo LASSO:\n",
      "3158.1726904665447\n"
     ]
    }
   ],
   "source": [
    "prediccionLASSO=modeloLASSO.predict(XTest)\n",
    "MSELASSO=np.average(np.square(prediccionLASSO-yTest))\n",
    "print('MSE regresión con penalización tipo LASSO:')\n",
    "print(MSELASSO)"
   ]
  },
  {
   "cell_type": "markdown",
   "id": "99da8b38",
   "metadata": {},
   "source": [
    "# ## Model with Elastic Net type penalty\n",
    "\n",
    "This model combines the classic Euclidean standard of the Betas vector together with the standard of the Betas vector as the sum of the absolute value of its components, that is, it is a combination between the Ridge type penalty and the Lasso type penalty.\n",
    "In this way, the optimization problem that is sought to be solved is:\n",
    "\n",
    "$$ \\ hat \\ beta = argmin \\ sum_ {i = 1}^{n} (y_ {i}-\\ beta^tx_i)^2 + \\ lambda ((1- \\ alpha) \\ sum_ {j = 1}^{k} \\ beta_j^{2} + \\ alpha \\ sum_ {j = 1}^{k} | \\ beta_j |) $$\n",
    "\n",
    "As can be seen, for this type of penalty there are two calibration parameters $ \\ Lambda $ and $ \\ Alpha $. In addition, it is important to note that if we have $ \\ alpha = $ 0 we would be talking about a model with a ridge type penalty, and if we have $ \\ alpha = $ 1 we would be talking about a model with lasso type penalty.\n",
    "\n",
    "Below is the code to calibrate the model with elastic net penalty using Cross-Validation:"
   ]
  },
  {
   "cell_type": "code",
   "execution_count": 12,
   "id": "011a7916",
   "metadata": {},
   "outputs": [],
   "source": [
    "n_alphas = 200\n",
    "alphasCalibrar = np.logspace(-10, 2, n_alphas)\n",
    "modeloElastic = ElasticNetCV(alphas=alphasCalibrar,cv=5, random_state=0).fit(XTrain,yTrain)"
   ]
  },
  {
   "cell_type": "markdown",
   "id": "81240dfd",
   "metadata": {},
   "source": [
    "Once the model is calibrated, we can know the value of $ \\ Lambda $, of $ r^{2} $ of regression and the estimated coefficients using the following commands:"
   ]
  },
  {
   "cell_type": "code",
   "execution_count": 13,
   "id": "0b7b6112",
   "metadata": {
    "scrolled": true
   },
   "outputs": [
    {
     "name": "stdout",
     "output_type": "stream",
     "text": [
      "El parámetro de penalización es:\n",
      "0.0004937047852839004\n",
      "El valor del R^2 es:\n",
      "0.5538625583085408\n",
      "Los coeficientes estimados son:\n",
      "[ -26.9569002  -167.54484824  546.83904689  268.2522041   -74.76095447\n",
      "  -92.30768544 -209.00556072   62.2106805   504.47407276   58.48911283]\n"
     ]
    }
   ],
   "source": [
    "print('El parámetro de penalización es:')\n",
    "print(modeloElastic.alpha_)\n",
    "print('El valor del R^2 es:')\n",
    "print(modeloElastic.score(XTrain, yTrain))\n",
    "print('Los coeficientes estimados son:')\n",
    "print(modeloElastic.coef_)"
   ]
  },
  {
   "cell_type": "markdown",
   "id": "d0d379dc",
   "metadata": {},
   "source": [
    "To observe what happens with the coefficients as the value of the penalty parameter changes, the following code must be run:"
   ]
  },
  {
   "cell_type": "code",
   "execution_count": 14,
   "id": "c1c18d13",
   "metadata": {
    "scrolled": true
   },
   "outputs": [
    {
     "data": {
      "image/png": "[encoded data removed]",
      "text/plain": [
       "<Figure size 432x288 with 1 Axes>"
      ]
     },
     "metadata": {
      "needs_background": "light"
     },
     "output_type": "display_data"
    }
   ],
   "source": [
    "coefs = []\n",
    "for a in alphasCalibrar:\n",
    "    elasticNet = ElasticNet(alpha=a, fit_intercept=False,max_iter=10000)\n",
    "    elasticNet.fit(XTrain, yTrain)\n",
    "    coefs.append(elasticNet.coef_)\n",
    "\n",
    "# Presentation of results\n",
    "\n",
    "ax = plt.gca()\n",
    "\n",
    "ax.plot(alphasCalibrar, coefs)\n",
    "ax.set_xscale('log')\n",
    "ax.set_xlim(ax.get_xlim()[::-1])  # reverse axis\n",
    "plt.xlabel('Parámetro de penalización')\n",
    "plt.ylabel('Coeficientes')\n",
    "plt.title('Penalización Elastic Net')\n",
    "plt.axis('tight')\n",
    "plt.show()"
   ]
  },
  {
   "cell_type": "markdown",
   "id": "8b6566eb",
   "metadata": {},
   "source": [
    "Finally, we can make predictions on the evaluation sample and calculate the MSE corresponding to the command that is immediately shown:"
   ]
  },
  {
   "cell_type": "code",
   "execution_count": 15,
   "id": "d9cc8110",
   "metadata": {},
   "outputs": [
    {
     "name": "stdout",
     "output_type": "stream",
     "text": [
      "MSE regresión con penalización tipo Elastic Net:\n",
      "3098.8249623929796\n"
     ]
    }
   ],
   "source": [
    "prediccionElastic=modeloElastic.predict(XTest)\n",
    "MSEElastic=np.average(np.square(prediccionElastic-yTest))\n",
    "print('MSE regresión con penalización tipo Elastic Net:')\n",
    "print(MSEElastic)"
   ]
  },
  {
   "cell_type": "markdown",
   "id": "a95177f2",
   "metadata": {},
   "source": [
    "# ## Comparison of models\n",
    "\n",
    "Finally, there is a code that jointly graph the MSE in test of the three models."
   ]
  },
  {
   "cell_type": "code",
   "execution_count": 16,
   "id": "586f7c84",
   "metadata": {},
   "outputs": [
    {
     "data": {
      "image/png": "[encoded data removed]",
      "text/plain": [
       "<Figure size 432x288 with 1 Axes>"
      ]
     },
     "metadata": {
      "needs_background": "light"
     },
     "output_type": "display_data"
    }
   ],
   "source": [
    "fig = plt.figure()\n",
    "ax = fig.add_axes([0,0,1,1])\n",
    "ax.set_title(\"Comparación de modelos\")\n",
    "ejeX = ['LASSO', 'Ridge','Elastic Net']\n",
    "ejeY = [MSELASSO,MSERidge,MSEElastic]\n",
    "ax.bar(ejeX,ejeY)\n",
    "def addlabels(x,y,plotP):\n",
    "    for i in range(len(x)):\n",
    "        plotP.text(i,y[i],y[i])\n",
    "addlabels(ejeX,ejeY,plt)\n",
    "plt.show()"
   ]
  },
  {
   "cell_type": "markdown",
   "id": "78275361",
   "metadata": {},
   "source": [
    "As can be seen, for this particular case, the performance of the Elastic Net model was better than that of Ridge and Lasso."
   ]
  },
  {
   "cell_type": "markdown",
   "id": "a0e8310f",
   "metadata": {},
   "source": [
    "# ## Code implementation\n",
    "\n",
    "Next, you must write a function that receives as parameters the matrix of training predictors, the training response variable, the evaluation predictors matrix, the evaluation response variable and a parameter called \"penalty\" that is 1 if you want to estimate a model with lasso type penalty, 2 if you want to estimate a model with a ridge type penalty The requested model with training data and calculate predictions for the evaluation set. Finally, the MSE of the model in test must be returned."
   ]
  },
  {
   "cell_type": "code",
   "execution_count": 3,
   "id": "fea36e47",
   "metadata": {},
   "outputs": [
    {
     "name": "stdout",
     "output_type": "stream",
     "text": [
      "\n",
      "Results for LASSO model:\n",
      "Optimal penalization parameter: 0.04824108704165374\n",
      "R^2 score on training set: 0.5560271023727925\n",
      "MSE on test set: 3158.1726904665447\n",
      "Estimated coefficients: [  -7.84287066 -151.6588139   590.8063923   251.03733442 -158.75797546\n",
      "   -0.         -193.40634314    0.          596.76793272   14.73853109]\n",
      "\n",
      "Results for Ridge model:\n",
      "Optimal penalization parameter: 0.04824108704165374\n",
      "R^2 score on training set: 0.5555050169726382\n",
      "MSE on test set: 3116.347005800314\n",
      "Estimated coefficients: [ -30.74688277 -173.94282028  562.75782213  272.05180796  -99.66001003\n",
      "  -78.00254663 -208.36004921   51.25040253  532.18392394   51.71663159]\n",
      "\n",
      "Results for Elastic Net model:\n",
      "Optimal penalization parameter: 0.0004937047852839004\n",
      "R^2 score on training set: 0.5538625583085408\n",
      "MSE on test set: 3098.8249623929796\n",
      "Estimated coefficients: [ -26.9569002  -167.54484824  546.83904689  268.2522041   -74.76095447\n",
      "  -92.30768544 -209.00556072   62.2106805   504.47407276   58.48911283]\n",
      "\n",
      "Model Comparison:\n",
      "LASSO MSE: 3158.1726904665447\n",
      "Ridge MSE: 3116.347005800314\n",
      "Elastic Net MSE: 3098.8249623929796\n"
     ]
    }
   ],
   "source": [
    "import numpy as np\n",
    "from sklearn.linear_model import RidgeCV, LassoCV, ElasticNetCV\n",
    "from sklearn.model_selection import train_test_split\n",
    "\n",
    "def estimate_regression_model(X_train, y_train, X_test, y_test, penalization):\n",
    "    \"\"\"\n",
    "    Function to estimate regression models with different penalization types\n",
    "    \n",
    "    Parameters:\n",
    "    X_train: Training predictor matrix\n",
    "    y_train: Training response variable\n",
    "    X_test: Test predictor matrix\n",
    "    y_test: Test response variable\n",
    "    penalization: Integer (1 for LASSO, 2 for Ridge, 3 for Elastic Net)\n",
    "    \n",
    "    Returns:\n",
    "    MSE: Mean Squared Error on test set\n",
    "    \"\"\"\n",
    "    \n",
    "# Define Alpha Range for Cross-Validation\n",
    "    n_alphas = 200\n",
    "    alphas_calibrar = np.logspace(-10, 2, n_alphas)\n",
    "    \n",
    "# Select and Fit Model Based on Penalization Parameter\n",
    "    if penalization == 1:  # LASSO\n",
    "        model = LassoCV(alphas=alphas_calibrar, max_iter=10000)\n",
    "        model_name = \"LASSO\"\n",
    "        \n",
    "    elif penalization == 2:  # Ridge\n",
    "        model = RidgeCV(alphas=alphas_calibrar, store_cv_values=True)\n",
    "        model_name = \"Ridge\"\n",
    "        \n",
    "    elif penalization == 3:  # Elastic Net\n",
    "        model = ElasticNetCV(alphas=alphas_calibrar, cv=5, random_state=0)\n",
    "        model_name = \"Elastic Net\"\n",
    "        \n",
    "    else:\n",
    "        raise ValueError(\"Penalization parameter must be 1 (LASSO), 2 (Ridge), or 3 (Elastic Net)\")\n",
    "    \n",
    "# Fit the Model\n",
    "    model.fit(X_train, y_train)\n",
    "    \n",
    "# Make predictions on test set\n",
    "    predictions = model.predict(X_test)\n",
    "    \n",
    "# Calculate MSE\n",
    "    mse = np.average(np.square(predictions - y_test))\n",
    "    \n",
    "# Print Model results\n",
    "    print(f\"\\nResults for {model_name} model:\")\n",
    "    print(f\"Optimal penalization parameter: {model.alpha_}\")\n",
    "    print(f\"R^2 score on training set: {model.score(X_train, y_train)}\")\n",
    "    print(f\"MSE on test set: {mse}\")\n",
    "    print(f\"Estimated coefficients: {model.coef_}\")\n",
    "    \n",
    "    return mse\n",
    "\n",
    "# Example usage with the diabetes dataset\n",
    "if __name__ == \"__main__\":\n",
    "# Load data\n",
    "    from sklearn import datasets\n",
    "    X_total, y_total = datasets.load_diabetes(return_X_y=True)\n",
    "    \n",
    "# Split Data\n",
    "    X_train, X_test, y_train, y_test = train_test_split(\n",
    "        X_total, y_total, test_size=0.33, random_state=0\n",
    "    )\n",
    "    \n",
    "# All Three Models test\n",
    "    mse_lasso = estimate_regression_model(X_train, y_train, X_test, y_test, 1)\n",
    "    mse_ridge = estimate_regression_model(X_train, y_train, X_test, y_test, 2)\n",
    "    mse_elastic = estimate_regression_model(X_train, y_train, X_test, y_test, 3)\n",
    "    \n",
    "# Print comparison\n",
    "    print(\"\\nModel Comparison:\")\n",
    "    print(f\"LASSO MSE: {mse_lasso}\")\n",
    "    print(f\"Ridge MSE: {mse_ridge}\")\n",
    "    print(f\"Elastic Net MSE: {mse_elastic}\")"
   ]
  }
 ],
 "metadata": {
  "kernelspec": {
   "display_name": "Python [conda env:base] *",
   "language": "python",
   "name": "conda-base-py"
  },
  "language_info": {
   "codemirror_mode": {
    "name": "ipython",
    "version": 3
   },
   "file_extension": ".py",
   "mimetype": "text/x-python",
   "name": "python",
   "nbconvert_exporter": "python",
   "pygments_lexer": "ipython3",
   "version": "3.12.7"
  }
 },
 "nbformat": 4,
 "nbformat_minor": 5
}
